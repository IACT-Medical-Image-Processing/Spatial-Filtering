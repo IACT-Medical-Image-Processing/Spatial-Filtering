{
 "cells": [
  {
   "cell_type": "code",
   "execution_count": 1,
   "metadata": {},
   "outputs": [],
   "source": [
    "import numpy as np\n",
    "import cv2\n",
    "import math as m\n",
    "from matplotlib import pyplot as plt"
   ]
  },
  {
   "cell_type": "code",
   "execution_count": 2,
   "metadata": {},
   "outputs": [],
   "source": [
    "originalImg = cv2.imread('castle.jpg')\n",
    "gray = originalImg[:,:,0]"
   ]
  },
  {
   "cell_type": "code",
   "execution_count": 3,
   "metadata": {},
   "outputs": [],
   "source": [
    "def zero_pad (image, pad):\n",
    "    paddedImage = np.pad(image,((pad,pad),(pad,pad)), 'constant', constant_values = (0,0))\n",
    "    return paddedImage"
   ]
  },
  {
   "cell_type": "code",
   "execution_count": 4,
   "metadata": {},
   "outputs": [],
   "source": [
    "def conv_single_step(imageSlice, window):\n",
    "    s = np.multiply(imageSlice,window)\n",
    "    Z = np.sum(s)\n",
    "    return Z"
   ]
  },
  {
   "cell_type": "code",
   "execution_count": 5,
   "metadata": {},
   "outputs": [],
   "source": [
    "def convolution(image, window, pad):\n",
    "    window = np.flip(window, axis = 1)\n",
    "    window = np.flip(window, axis = 0)\n",
    "    paddedImage = zero_pad(image, pad)                    # pad the image\n",
    "    (paddedImageH, paddedImageW) = np.shape(paddedImage)  # retrieve dimensions of padded image\n",
    "    (outputH, outputW) = np.shape(image)                  # retrieve dimensions of image\n",
    "    (windowH, windowW) = np.shape(window)                 #retrieve shape of window\n",
    "    Z = np.zeros((outputH, outputW))                        # inialize the output volume Z with zeros\n",
    "    for h in range(outputH):                              # loop over vertical axis of the output volume\n",
    "            for w in range(outputW):                      # loop over horizontal axis of the output volume\n",
    "                vert_start = h                            # find the corners of the current slice\n",
    "                vert_end = h+windowH\n",
    "                horiz_start = w\n",
    "                horiz_end = w+windowW\n",
    "                imageSlice = paddedImage[vert_start:vert_end, horiz_start:horiz_end] # get the value for the slice\n",
    "                Z[h,w] = conv_single_step(imageSlice, window)                        # do convolution over the current slice\n",
    "    Z=Z.astype(np.uint8)\n",
    "    return Z\n",
    "                "
   ]
  },
  {
   "cell_type": "code",
   "execution_count": 6,
   "metadata": {},
   "outputs": [],
   "source": [
    "def gaussianfilter(windowSize, k, sigma):                 #window = window size \n",
    "    window = np.random.rand(windowSize, windowSize)\n",
    "    (windowH, windowW) = np.shape(window)                 #retrieve shape of window\n",
    "    kernel = np.zeros((windowH, windowW))\n",
    "    for h in range(windowH):                             \n",
    "            for w in range(windowW):                  \n",
    "                kernel[h,w] = k*(m.exp(-((h-(windowH/2-0.5))**2+(w-(windowW/2-0.5))**2)/(2*sigma**2)))\n",
    "    windowSum = np.sum(kernel)\n",
    "    kernel = kernel/windowSum\n",
    "    return kernel"
   ]
  },
  {
   "cell_type": "code",
   "execution_count": 7,
   "metadata": {},
   "outputs": [],
   "source": [
    "gWindow = gaussianfilter(3, 1, 1)\n",
    "#print (yg)\n",
    "gaussianImage = convolution(gray, gWindow, 1)"
   ]
  },
  {
   "cell_type": "code",
   "execution_count": null,
   "metadata": {},
   "outputs": [],
   "source": [
    "#np.set_printoptions(threshold=np.nan)\n",
    "#print(gWindow)\n",
    "#print(gray)\n",
    "#print(gaussianImage)"
   ]
  },
  {
   "cell_type": "code",
   "execution_count": 8,
   "metadata": {},
   "outputs": [],
   "source": [
    "numpy_horizontal = np.hstack((gray, gaussianImage))\n",
    "cv2.imshow('original vs Gaussian Image',numpy_horizontal)\n",
    "#cv2.imshow('image',gray)\n",
    "#cv2.imshow('image',gaussianImage)\n",
    "#cv2.imshow('l' , np.array(gaussianImage, dtype = np.uint8 ) )\n",
    "cv2.waitKey(0)\n",
    "cv2.destroyAllWindows()"
   ]
  },
  {
   "cell_type": "code",
   "execution_count": 9,
   "metadata": {},
   "outputs": [],
   "source": [
    "def laplacian(c):\n",
    "    l=np.zeros((3,3))\n",
    "    l[1,1] = c\n",
    "    l[0,1] = -c/4\n",
    "    l[1,0] = -c/4\n",
    "    l[1,2] = -c/4\n",
    "    l[2,1] = -c/4\n",
    "    return l"
   ]
  },
  {
   "cell_type": "code",
   "execution_count": 10,
   "metadata": {},
   "outputs": [],
   "source": [
    "def laplacianfilter(image, c, pad):\n",
    "    l = laplacian(c)\n",
    "    paddedImage = zero_pad(image, pad)                    # pad the image\n",
    "    (paddedImageH, paddedImageW) = np.shape(paddedImage)  # retrieve dimensions of padded image\n",
    "    (outputH, outputW) = np.shape(image)                  # retrieve dimensions of image\n",
    "    (windowH, windowW) = np.shape(l)                      # retrieve shape of window\n",
    "    Z = np.zeros((outputH, outputW))                      # inialize the output volume Z with zeros\n",
    "    for h in range(outputH):                              # loop over vertical axis of the output volume\n",
    "            for w in range(outputW):                      # loop over horizontal axis of the output volume\n",
    "                vert_start = h                            # find the corners of the current slice\n",
    "                vert_end = h+windowH\n",
    "                horiz_start = w\n",
    "                horiz_end = w+windowW\n",
    "                imageSlice = paddedImage[vert_start:vert_end, horiz_start:horiz_end] # get the value for the slice\n",
    "                g = conv_single_step(imageSlice, l)                                  # do convolution to get gradient\n",
    "                Z[h,w] = image[h,w]+c*g\n",
    "    Z=Z.astype(np.uint8)\n",
    "    return Z"
   ]
  },
  {
   "cell_type": "code",
   "execution_count": 11,
   "metadata": {},
   "outputs": [],
   "source": [
    "laplacianImage = laplacianfilter(gaussianImage, 0.1, 1)    #Laplacian of Gaussian"
   ]
  },
  {
   "cell_type": "code",
   "execution_count": 12,
   "metadata": {},
   "outputs": [],
   "source": [
    "numpy_horizontal2 = np.hstack((gaussianImage, laplacianImage))\n",
    "cv2.imshow('Gaussian Image vs Laplacian of Gaussian Image',numpy_horizontal2)\n",
    "cv2.waitKey(0)\n",
    "cv2.destroyAllWindows()"
   ]
  },
  {
   "cell_type": "code",
   "execution_count": 13,
   "metadata": {},
   "outputs": [],
   "source": [
    "laplacianImage2 = laplacianfilter(gray, 0.1, 1)                 #Laplacian of original image"
   ]
  },
  {
   "cell_type": "code",
   "execution_count": 14,
   "metadata": {},
   "outputs": [],
   "source": [
    "numpy_horizontal3 = np.hstack((gray, laplacianImage2))\n",
    "cv2.imshow('original image vs Laplacian of original',numpy_horizontal3)\n",
    "cv2.waitKey(0)\n",
    "cv2.destroyAllWindows()"
   ]
  },
  {
   "cell_type": "code",
   "execution_count": null,
   "metadata": {},
   "outputs": [],
   "source": [
    "numpy_horizontal4 = np.hstack((laplacianImage, laplacianImage2))\n",
    "cv2.imshow('Laplacian of Gaussian Image vs Laplacian of original',numpy_horizontal4)\n",
    "cv2.waitKey(0)\n",
    "cv2.destroyAllWindows()"
   ]
  },
  {
   "cell_type": "code",
   "execution_count": null,
   "metadata": {},
   "outputs": [],
   "source": []
  }
 ],
 "metadata": {
  "kernelspec": {
   "display_name": "Python 3",
   "language": "python",
   "name": "python3"
  },
  "language_info": {
   "codemirror_mode": {
    "name": "ipython",
    "version": 3
   },
   "file_extension": ".py",
   "mimetype": "text/x-python",
   "name": "python",
   "nbconvert_exporter": "python",
   "pygments_lexer": "ipython3",
   "version": "3.7.1"
  }
 },
 "nbformat": 4,
 "nbformat_minor": 2
}
